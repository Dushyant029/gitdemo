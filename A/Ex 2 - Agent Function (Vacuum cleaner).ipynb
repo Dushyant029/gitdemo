{
 "cells": [
  {
   "cell_type": "code",
   "execution_count": 1,
   "metadata": {},
   "outputs": [
    {
     "name": "stdout",
     "output_type": "stream",
     "text": [
      "Enter Number of Rooms: 5\n",
      "Enter 1 for Clean and 0 for dirty for room 1 : 0\n",
      "Enter 1 for Clean and 0 for dirty for room 2 : 1\n",
      "Enter 1 for Clean and 0 for dirty for room 3 : 0\n",
      "Enter 1 for Clean and 0 for dirty for room 4 : 1\n",
      "Enter 1 for Clean and 0 for dirty for room 5 : 0\n",
      "Enter Initial position of the vacuum cleaner(1-5)3\n",
      "Room 3 is dirty, Clean and moving forward\n",
      "Reached the End, so turning back\n",
      "Room 4 is clean, moving forward\n",
      "Reached the End, so turning back\n",
      "Room 5 is dirty, Clean and moving forward\n",
      "Reached the End, so turning back\n",
      "Room 3 is clean, moving back\n",
      "Reached the start, so turning back\n",
      "Room 2 is clean, moving back\n",
      "Reached the start, so turning back\n",
      "Room 1 is dirty, Clean and moving back\n",
      "Reached the start, so turning back\n",
      "All Rooms are cleaned\n"
     ]
    }
   ],
   "source": [
    "#Agent function\n",
    "def GoForward(rooms, pos):\n",
    "    while pos != len(rooms):\n",
    "        if rooms[pos] == False:\n",
    "            rooms[pos] = True\n",
    "            print(\"Room {} is dirty, Clean and moving forward\".format(pos+1))\n",
    "            pos += 1\n",
    "        else:\n",
    "            print(\"Room {} is clean, moving forward\".format(pos+1))\n",
    "            pos += 1\n",
    "        print(\"Reached the End, so turning back\")\n",
    "\n",
    "def GoBackward(rooms, pos):\n",
    "    while pos >= 0:\n",
    "        if rooms[pos] == False:\n",
    "            rooms[pos] = True\n",
    "            print(\"Room {} is dirty, Clean and moving back\".format(pos+1))\n",
    "            pos -= 1\n",
    "        else:\n",
    "            print(\"Room {} is clean, moving back\".format(pos+1))\n",
    "            pos -= 1\n",
    "        print(\"Reached the start, so turning back\")\n",
    "        \n",
    "        \n",
    "n = int(input(\"Enter Number of Rooms: \"))\n",
    "rooms = []\n",
    "for i in range(n):\n",
    "    x = int(input(\"Enter 1 for Clean and 0 for dirty for room {} : \".format(i+1)))\n",
    "    if x == 1:\n",
    "        rooms.append(True)\n",
    "    else:\n",
    "        rooms.append(False)\n",
    "pos = int(input(\"Enter Initial position of the vacuum cleaner(1-{})\".format(n)))\n",
    "pos -= 1\n",
    "while rooms != [True for i in range(n)]:\n",
    "    GoForward(rooms, pos)\n",
    "    GoBackward(rooms, pos)\n",
    "print(\"All Rooms are cleaned\")"
   ]
  },
  {
   "cell_type": "code",
   "execution_count": null,
   "metadata": {},
   "outputs": [],
   "source": []
  }
 ],
 "metadata": {
  "kernelspec": {
   "display_name": "Python 3",
   "language": "python",
   "name": "python3"
  },
  "language_info": {
   "codemirror_mode": {
    "name": "ipython",
    "version": 3
   },
   "file_extension": ".py",
   "mimetype": "text/x-python",
   "name": "python",
   "nbconvert_exporter": "python",
   "pygments_lexer": "ipython3",
   "version": "3.8.5"
  }
 },
 "nbformat": 4,
 "nbformat_minor": 4
}
