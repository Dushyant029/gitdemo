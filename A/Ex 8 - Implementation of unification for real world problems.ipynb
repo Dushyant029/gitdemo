{
 "cells": [
  {
   "cell_type": "code",
   "execution_count": 1,
   "metadata": {},
   "outputs": [
    {
     "name": "stdout",
     "output_type": "stream",
     "text": [
      "Requirement already satisfied: unification in c:\\users\\dushi\\anaconda3\\lib\\site-packages (0.2.2)\n",
      "Note: you may need to restart the kernel to use updated packages.\n",
      "Requirement already satisfied: multipledispatch in c:\\users\\dushi\\anaconda3\\lib\\site-packages (from unification) (0.6.0)\n",
      "Requirement already satisfied: toolz in c:\\users\\dushi\\anaconda3\\lib\\site-packages (from unification) (0.11.1)\n",
      "Requirement already satisfied: six in c:\\users\\dushi\\appdata\\roaming\\python\\python38\\site-packages (from multipledispatch->unification) (1.15.0)\n"
     ]
    }
   ],
   "source": [
    "pip install unification"
   ]
  },
  {
   "cell_type": "code",
   "execution_count": 5,
   "metadata": {},
   "outputs": [
    {
     "data": {
      "text/plain": [
       "[{~id: 1, ~name: 'Alice', ~balance: 100},\n",
       " {~id: 2, ~name: 'Bob', ~balance: 0},\n",
       " {~id: 2, ~name: 'Charlie', ~balance: 0},\n",
       " {~id: 2, ~name: 'Denis', ~balance: 400},\n",
       " {~id: 2, ~name: 'Edith', ~balance: 500}]"
      ]
     },
     "execution_count": 5,
     "metadata": {},
     "output_type": "execute_result"
    }
   ],
   "source": [
    "from unification import *\n",
    "@unifiable\n",
    "class Account(object):\n",
    "    def __init__(self, id, name, balance):\n",
    "        self.id = id\n",
    "        self.name = name\n",
    "        self.balance = balance\n",
    "\n",
    "data = [Account(1, 'Alice', 100),\n",
    "        Account(2, 'Bob', 0),\n",
    "        Account(2, 'Charlie', 0),\n",
    "        Account(2, 'Denis', 400),\n",
    "        Account(2, 'Edith', 500)]\n",
    "\n",
    "id, name, balance = var('id'), var('name'), var('balance')\n",
    "[unify(Account(id, name, balance), acct) for acct in data]"
   ]
  },
  {
   "cell_type": "code",
   "execution_count": 6,
   "metadata": {},
   "outputs": [
    {
     "data": {
      "text/plain": [
       "[False, {~id: 2, ~name: 'Bob'}, {~id: 2, ~name: 'Charlie'}, False, False]"
      ]
     },
     "execution_count": 6,
     "metadata": {},
     "output_type": "execute_result"
    }
   ],
   "source": [
    "[unify(Account(id, name, 0), acct) for acct in data]"
   ]
  },
  {
   "cell_type": "code",
   "execution_count": 7,
   "metadata": {},
   "outputs": [
    {
     "name": "stdout",
     "output_type": "stream",
     "text": [
      "The process of Unification successful!\n",
      "['f(b)/x', 'f(y)/x']\n"
     ]
    }
   ],
   "source": [
    "def get_index_comma(string):\n",
    "    index_list = list()\n",
    "    par_count = 0\n",
    "    for i in range(len(string)):\n",
    "        if string[i] == ',' and par_count == 0:\n",
    "            index_list.append(i)\n",
    "        elif string[i] == '(':\n",
    "            par_count += 1\n",
    "        elif string[i] == ')':\n",
    "            par_count -= 1\n",
    "    return index_list\n",
    "def is_variable(expr):\n",
    "    for i in expr:\n",
    "        if i == '(' or i == ')':\n",
    "            return False\n",
    "    return True\n",
    "def process_expression(expr):\n",
    "    expr = expr.replace(' ', '')\n",
    "    index = None\n",
    "    for i in range(len(expr)):\n",
    "        if expr[i] == '(':\n",
    "            index = i\n",
    "            break\n",
    "    predicate_symbol = expr[:index]\n",
    "    expr = expr.replace(predicate_symbol, '')\n",
    "    expr = expr[1:len(expr) - 1]\n",
    "    arg_list = list()\n",
    "    indices = get_index_comma(expr)\n",
    "    if len(indices) == 0:\n",
    "        arg_list.append(expr)\n",
    "    else:\n",
    "        arg_list.append(expr[:indices[0]])\n",
    "        for i, j in zip(indices, indices[1:]):\n",
    "            arg_list.append(expr[i + 1:j])\n",
    "        arg_list.append(expr[indices[len(indices) - 1] + 1:])\n",
    "    return predicate_symbol, arg_list\n",
    "def get_arg_list(expr):\n",
    "    _, arg_list = process_expression(expr)\n",
    "    flag = True\n",
    "    while flag:\n",
    "        flag = False\n",
    "        for i in arg_list:\n",
    "            if not is_variable(i):\n",
    "                flag = True\n",
    "                _, tmp = process_expression(i)\n",
    "                for j in tmp:\n",
    "                    if j not in arg_list:\n",
    "                        arg_list.append(j)\n",
    "                arg_list.remove(i)\n",
    "    return arg_list\n",
    "def check_occurs(var, expr):\n",
    "    arg_list = get_arg_list(expr)\n",
    "    if var in arg_list:\n",
    "        return True\n",
    "    return False\n",
    "def unify(expr1, expr2):\n",
    "\n",
    "    if is_variable(expr1) and is_variable(expr2):\n",
    "        if expr1 == expr2:\n",
    "            return 'Null'\n",
    "        else:\n",
    "            return False\n",
    "    elif is_variable(expr1) and not is_variable(expr2):\n",
    "        if check_occurs(expr1, expr2):\n",
    "            return False\n",
    "        else:\n",
    "            tmp = str(expr2) + '/' + str(expr1)\n",
    "            return tmp\n",
    "    elif not is_variable(expr1) and is_variable(expr2):\n",
    "        if check_occurs(expr2, expr1):\n",
    "            return False\n",
    "        else:\n",
    "            tmp = str(expr1) + '/' + str(expr2)\n",
    "            return tmp\n",
    "    else:\n",
    "        predicate_symbol_1, arg_list_1 = process_expression(expr1)\n",
    "        predicate_symbol_2, arg_list_2 = process_expression(expr2)\n",
    "        # Step 2\n",
    "        if predicate_symbol_1 != predicate_symbol_2:\n",
    "            return False\n",
    "        # Step 3\n",
    "        elif len(arg_list_1) != len(arg_list_2):\n",
    "            return False\n",
    "        else:\n",
    "            sub_list = list()\n",
    "            for i in range(len(arg_list_1)):\n",
    "                tmp = unify(arg_list_1[i], arg_list_2[i])\n",
    "                if not tmp:\n",
    "                    return False\n",
    "                elif tmp == 'Null':\n",
    "                    pass\n",
    "                else:\n",
    "                    if type(tmp) == list:\n",
    "                        for j in tmp:\n",
    "                            sub_list.append(j)\n",
    "                    else:\n",
    "                        sub_list.append(tmp)\n",
    "            # Step 6\n",
    "            return sub_list\n",
    "if __name__ == '__main__':\n",
    "    f1 = 'Q(a, g(x, a), f(y))'\n",
    "    f2 = 'Q(a, g(f(b), a), x)'\n",
    "    result = unify(f1, f2)\n",
    "    if not result:\n",
    "        print('The process of Unification failed!')\n",
    "    else:\n",
    "        print('The process of Unification successful!')\n",
    "        print(result)"
   ]
  },
  {
   "cell_type": "code",
   "execution_count": null,
   "metadata": {},
   "outputs": [],
   "source": []
  }
 ],
 "metadata": {
  "kernelspec": {
   "display_name": "Python 3",
   "language": "python",
   "name": "python3"
  },
  "language_info": {
   "codemirror_mode": {
    "name": "ipython",
    "version": 3
   },
   "file_extension": ".py",
   "mimetype": "text/x-python",
   "name": "python",
   "nbconvert_exporter": "python",
   "pygments_lexer": "ipython3",
   "version": "3.8.5"
  }
 },
 "nbformat": 4,
 "nbformat_minor": 4
}
