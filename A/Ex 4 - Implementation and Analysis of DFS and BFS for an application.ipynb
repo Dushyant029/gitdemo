{
 "cells": [
  {
   "cell_type": "code",
   "execution_count": 1,
   "metadata": {},
   "outputs": [
    {
     "name": "stdout",
     "output_type": "stream",
     "text": [
      "BFS: A B C D E F \n",
      "\n",
      "DFS: A B D E F C "
     ]
    }
   ],
   "source": [
    "graph = {\n",
    "    'A' : ['B','C'],\n",
    "    'B' : ['D', 'E'],\n",
    "    'C' : ['F'],\n",
    "    'D' : [],\n",
    "    'E' : ['F'],\n",
    "    'F' : []\n",
    "}\n",
    "\n",
    "visit_BFS = []\n",
    "queue = []\n",
    "\n",
    "def bfs(visit_BFS, graph, node):\n",
    "    visit_BFS.append(node)\n",
    "    queue.append(node)\n",
    "    \n",
    "    while queue:\n",
    "        s = queue.pop(0)\n",
    "        print (s, end = \" \")\n",
    "\n",
    "        for nearNode in graph[s]:\n",
    "            if nearNode not in visit_BFS:\n",
    "                visit_BFS.append(nearNode)\n",
    "                queue.append(nearNode)\n",
    "\n",
    "visit_DFS = set()\n",
    "\n",
    "def dfs(visit_DFS, graph, node):\n",
    "    if node not in visit_DFS:\n",
    "        print (node, end=\" \")\n",
    "        visit_DFS.add(node)\n",
    "        for nearNode in graph[node]:\n",
    "            dfs(visit_DFS, graph, nearNode)\n",
    "            \n",
    "print(\"BFS:\" , end =\" \")\n",
    "bfs(visit_BFS, graph, 'A')\n",
    "print('\\n')\n",
    "print(\"DFS:\" , end =\" \")\n",
    "dfs(visit_DFS, graph, 'A')"
   ]
  },
  {
   "cell_type": "code",
   "execution_count": null,
   "metadata": {},
   "outputs": [],
   "source": []
  }
 ],
 "metadata": {
  "kernelspec": {
   "display_name": "Python 3",
   "language": "python",
   "name": "python3"
  },
  "language_info": {
   "codemirror_mode": {
    "name": "ipython",
    "version": 3
   },
   "file_extension": ".py",
   "mimetype": "text/x-python",
   "name": "python",
   "nbconvert_exporter": "python",
   "pygments_lexer": "ipython3",
   "version": "3.8.5"
  }
 },
 "nbformat": 4,
 "nbformat_minor": 4
}
