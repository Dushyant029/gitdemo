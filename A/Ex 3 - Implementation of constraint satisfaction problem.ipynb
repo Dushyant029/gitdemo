{
 "cells": [
  {
   "cell_type": "code",
   "execution_count": 1,
   "metadata": {},
   "outputs": [
    {
     "name": "stdout",
     "output_type": "stream",
     "text": [
      "2 6 9 4 1 5 3 7 8 \n",
      "5 8 1 7 6 3 4 2 9 \n",
      "4 7 3 9 2 8 5 6 1 \n",
      "1 3 5 6 7 2 9 8 4 \n",
      "9 4 6 8 3 1 2 5 7 \n",
      "7 2 8 5 4 9 6 1 3 \n",
      "6 9 4 1 5 7 8 3 2 \n",
      "8 1 2 3 9 6 7 4 5 \n",
      "3 5 7 2 8 4 1 9 6 \n"
     ]
    }
   ],
   "source": [
    "N = 9\n",
    "def printmatrix(arr):\n",
    "    for i in range(N):\n",
    "        for j in range(N):\n",
    "            print(arr[i][j], end=\" \")\n",
    "        print()\n",
    "        \n",
    "def isValid(matrix, row, col, num):\n",
    "    for x in range(9):\n",
    "        if matrix[row][x] == num:\n",
    "            return False\n",
    "\n",
    "    for x in range(9):\n",
    "        if matrix[x][col] == num:\n",
    "            return False\n",
    "\n",
    "    startRow = row - row % 3\n",
    "    startCol = col - col % 3\n",
    "    for i in range(3):\n",
    "        for j in range(3):\n",
    "            if matrix[i + startRow][j + startCol] == num:\n",
    "                return False\n",
    "    return True\n",
    "\n",
    "def solve(matrix, row, col):\n",
    "    if (row == N - 1 and col == N):\n",
    "        return True\n",
    "    if col == N:\n",
    "        row += 1\n",
    "        col = 0\n",
    "    if matrix[row][col] > 0:\n",
    "        return solve(matrix, row, col + 1)\n",
    "    for num in range(1, N + 1, 1):\n",
    "        if isValid(matrix, row, col, num):\n",
    "            matrix[row][col] = num\n",
    "            if solve(matrix, row, col + 1):\n",
    "                return True\n",
    "        matrix[row][col] = 0\n",
    "    return False\n",
    "\n",
    "matrix = [[0, 6, 0, 4, 0, 0, 0, 7, 0],\n",
    "          [0, 8, 0, 0, 0, 0, 0, 2, 9],\n",
    "          [0, 7, 0, 0, 2, 0, 5, 0, 0],\n",
    "          [0, 0, 5, 6, 0, 0, 0, 0, 4],\n",
    "          [9, 0, 0, 0, 0, 0, 0, 0, 0],\n",
    "          [0, 0, 0, 5, 0, 0, 0, 0, 3],\n",
    "          [0, 0, 4, 1, 0, 0, 0, 0, 0],\n",
    "          [8, 0, 0, 0, 9, 0, 0, 0, 0],\n",
    "          [0, 0, 0, 0, 8, 0, 1, 0, 6]]\n",
    "\n",
    "if (solve(matrix, 0, 0)):\n",
    "    printmatrix(matrix)\n",
    "else:\n",
    "    print(\"no solution exists \")\n"
   ]
  },
  {
   "cell_type": "code",
   "execution_count": null,
   "metadata": {},
   "outputs": [],
   "source": []
  }
 ],
 "metadata": {
  "kernelspec": {
   "display_name": "Python 3",
   "language": "python",
   "name": "python3"
  },
  "language_info": {
   "codemirror_mode": {
    "name": "ipython",
    "version": 3
   },
   "file_extension": ".py",
   "mimetype": "text/x-python",
   "name": "python",
   "nbconvert_exporter": "python",
   "pygments_lexer": "ipython3",
   "version": "3.8.5"
  }
 },
 "nbformat": 4,
 "nbformat_minor": 4
}
