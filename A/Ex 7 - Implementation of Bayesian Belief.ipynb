{
 "cells": [
  {
   "cell_type": "code",
   "execution_count": 3,
   "metadata": {},
   "outputs": [
    {
     "name": "stdout",
     "output_type": "stream",
     "text": [
      "Collecting pomegranate\n",
      "  Downloading pomegranate-0.14.8-cp38-cp38-win_amd64.whl (6.5 MB)\n",
      "Collecting numpy>=1.20.0\n",
      "  Downloading numpy-1.22.3-cp38-cp38-win_amd64.whl (14.7 MB)\n",
      "Requirement already satisfied: joblib>=0.9.0b4 in c:\\users\\dushi\\anaconda3\\lib\\site-packages (from pomegranate) (0.17.0)\n",
      "Requirement already satisfied: pyyaml in c:\\users\\dushi\\anaconda3\\lib\\site-packages (from pomegranate) (5.3.1)\n",
      "Requirement already satisfied: networkx>=2.4 in c:\\users\\dushi\\anaconda3\\lib\\site-packages (from pomegranate) (2.5)\n",
      "Requirement already satisfied: scipy>=0.17.0 in c:\\users\\dushi\\anaconda3\\lib\\site-packages (from pomegranate) (1.5.2)\n",
      "Requirement already satisfied: decorator>=4.3.0 in c:\\users\\dushi\\anaconda3\\lib\\site-packages (from networkx>=2.4->pomegranate) (4.4.2)\n",
      "Installing collected packages: numpy, pomegranate\n",
      "  Attempting uninstall: numpy\n",
      "    Found existing installation: numpy 1.19.2\n",
      "    Uninstalling numpy-1.19.2:\n",
      "      Successfully uninstalled numpy-1.19.2\n",
      "Successfully installed numpy-1.22.3 pomegranate-0.14.8\n"
     ]
    }
   ],
   "source": [
    "!pip3 install pomegranate"
   ]
  },
  {
   "cell_type": "code",
   "execution_count": 4,
   "metadata": {},
   "outputs": [
    {
     "name": "stdout",
     "output_type": "stream",
     "text": [
      "guesttBnprizet{\n",
      "    \"class\" : \"Distribution\",\n",
      "    \"dtype\" : \"str\",\n",
      "    \"name\" : \"DiscreteDistribution\",\n",
      "    \"parameters\" : [\n",
      "        {\n",
      "            \"A\" : 0.33333333333333326,\n",
      "            \"B\" : 0.3333333333333334,\n",
      "            \"C\" : 0.33333333333333326\n",
      "        }\n",
      "    ],\n",
      "    \"frozen\" : false\n",
      "}nmontyt{\n",
      "    \"class\" : \"Distribution\",\n",
      "    \"dtype\" : \"str\",\n",
      "    \"name\" : \"DiscreteDistribution\",\n",
      "    \"parameters\" : [\n",
      "        {\n",
      "            \"B\" : 0.1666666666666668,\n",
      "            \"A\" : 0.41666666666666663,\n",
      "            \"C\" : 0.41666666666666663\n",
      "        }\n",
      "    ],\n",
      "    \"frozen\" : false\n",
      "}\n"
     ]
    }
   ],
   "source": [
    "# Import required packages\n",
    "import math\n",
    "from pomegranate import *\n",
    " \n",
    "guest = DiscreteDistribution({'A': 1./3, 'B': 1./3, 'C': 1./3})\n",
    " \n",
    "vehicleType = DiscreteDistribution({'A': 1./3, 'B': 1./3, 'C': 1./3})\n",
    " \n",
    "# a=1\n",
    "# b=1-4\n",
    "# c=4-6\n",
    " \n",
    "driver = ConditionalProbabilityTable(\n",
    "    [['A', 'A', 'A', 1.0],\n",
    "     ['A', 'A', 'B', 0.0],\n",
    "        ['A', 'A', 'C', 0.0],\n",
    "        ['A', 'B', 'A', 0.0],\n",
    "        ['A', 'B', 'B', 1.0],\n",
    "        ['A', 'B', 'C', 0.0],\n",
    "        ['A', 'C', 'A', 0.0],\n",
    "        ['A', 'C', 'B', 0.0],\n",
    "        ['A', 'C', 'C', 1.0],\n",
    "        ['B', 'A', 'A', 1.0],\n",
    "        ['B', 'A', 'B', 0.0],\n",
    "        ['B', 'A', 'C', 1.0],\n",
    "        ['B', 'B', 'A', 0.5],\n",
    "        ['B', 'B', 'B', 1.0],\n",
    "        ['B', 'B', 'C', 0.5],\n",
    "        ['B', 'C', 'A', 1.0],\n",
    "        ['B', 'C', 'B', 0.0],\n",
    "        ['B', 'C', 'C', 1.0],\n",
    "        ['C', 'A', 'A', 1.0],\n",
    "        ['C', 'A', 'B', 1.0],\n",
    "        ['C', 'A', 'C', 0.0],\n",
    "        ['C', 'B', 'A', 1.0],\n",
    "        ['C', 'B', 'B', 1.0],\n",
    "        ['C', 'B', 'C', 0.0],\n",
    "        ['C', 'C', 'A', 0.5],\n",
    "        ['C', 'C', 'B', 0.5],\n",
    "        ['C', 'C', 'C', 1.0]], [guest, vehicleType])\n",
    " \n",
    "d1 = State(guest, name=\"guest\")\n",
    "d2 = State(vehicleType, name=\"prize\")\n",
    "d3 = State(driver, name=\"monty\")\n",
    " \n",
    "network = BayesianNetwork()\n",
    "network.add_states(d1, d2, d3)\n",
    "network.add_edge(d1, d3)\n",
    "network.add_edge(d2, d3)\n",
    "network.bake()\n",
    " \n",
    "beliefs = network.predict_proba({'guest': 'B', 'driver': 'B'})\n",
    "print(\"n\".join(\"{}t{}\".format(state.name, str(belief))\n",
    "      for state, belief in zip(network.states, beliefs)))"
   ]
  },
  {
   "cell_type": "code",
   "execution_count": null,
   "metadata": {},
   "outputs": [],
   "source": []
  }
 ],
 "metadata": {
  "kernelspec": {
   "display_name": "Python 3",
   "language": "python",
   "name": "python3"
  },
  "language_info": {
   "codemirror_mode": {
    "name": "ipython",
    "version": 3
   },
   "file_extension": ".py",
   "mimetype": "text/x-python",
   "name": "python",
   "nbconvert_exporter": "python",
   "pygments_lexer": "ipython3",
   "version": "3.8.5"
  }
 },
 "nbformat": 4,
 "nbformat_minor": 4
}
