{
 "cells": [
  {
   "cell_type": "code",
   "execution_count": 11,
   "metadata": {},
   "outputs": [
    {
     "name": "stdout",
     "output_type": "stream",
     "text": [
      "Stack|Input|Action\n",
      "--------------------\n",
      "$2   |324232$|Shift\n",
      "$23  |24232$|Shift\n",
      "$232 |4232$|Shift\n",
      "$2324|232$ |Shift\n",
      "$232E|232$ |Reduce S->4\n",
      "$232E2|32$  |Shift\n",
      "$23E |32$  |Reduce S->2E2\n",
      "$23E3|2$   |Shift\n",
      "$2E  |2$   |Reduce S->3E3\n",
      "$2E2 |$    |Shift\n",
      "$E   |$    |Reduce S->2E2\n",
      "$E   |$    |Accepted\n"
     ]
    }
   ],
   "source": [
    "gram = {\"E\":[\"2E2\",\"3E3\",\"4\"]}\n",
    "starting_terminal = \"E\"\n",
    "inp = \"2324232$\"\n",
    "\n",
    "stack = \"$\"\n",
    "print(f'{\"Stack\": <5}'+\"|\"+f'{\"Input\": <5}'+\"|\"+f'Action')\n",
    "print(f'{\"-\":-<20}')\n",
    "\n",
    "while True:\n",
    "    action = True\n",
    "    i = 0\n",
    "    while i<len(gram[starting_terminal]):\n",
    "        if gram[starting_terminal][i] in stack:\n",
    "            stack = stack.replace(gram[starting_terminal][i],starting_terminal)\n",
    "            print(f'{stack: <5}'+\"|\"+f'{inp: <5}'+\"|\"+f'Reduce S->{gram[starting_terminal][i]}')\n",
    "            i=-1\n",
    "            action = False\n",
    "        i+=1\n",
    "    if len(inp)>1:\n",
    "        stack+=inp[0]\n",
    "        inp=inp[1:]\n",
    "        print(f'{stack: <5}'+\"|\"+f'{inp: <5}'+\"|\"+f'Shift')\n",
    "        action = False\n",
    "\n",
    "    if inp == \"$\" and stack == (\"$\"+starting_terminal):\n",
    "        print(f'{stack: <5}'+\"|\"+f'{inp: <5}'+\"|\"+f'Accepted')\n",
    "        break\n",
    "\n",
    "    if action:\n",
    "        print(f'{stack: <5}'+\"|\"+f'{inp: <5}'+\"|\"+f'Rejected')\n",
    "        break"
   ]
  },
  {
   "cell_type": "code",
   "execution_count": null,
   "metadata": {},
   "outputs": [],
   "source": []
  }
 ],
 "metadata": {
  "kernelspec": {
   "display_name": "Python 3",
   "language": "python",
   "name": "python3"
  },
  "language_info": {
   "codemirror_mode": {
    "name": "ipython",
    "version": 3
   },
   "file_extension": ".py",
   "mimetype": "text/x-python",
   "name": "python",
   "nbconvert_exporter": "python",
   "pygments_lexer": "ipython3",
   "version": "3.8.5"
  }
 },
 "nbformat": 4,
 "nbformat_minor": 4
}
